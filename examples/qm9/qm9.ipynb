{
 "cells": [
  {
   "cell_type": "code",
   "execution_count": 1,
   "id": "61a0ebba-404f-429e-bd4a-16b37ed83b83",
   "metadata": {},
   "outputs": [
    {
     "name": "stdout",
     "output_type": "stream",
     "text": [
      "/examples/qm9\n",
      "Looking in indexes: https://pypi.org/simple, https://download.pytorch.org/whl/cu113\n",
      "Requirement already satisfied: tqdm in /home/jheepuser/.local/lib/python3.10/site-packages (from -r requirements.txt (line 1)) (4.64.0)\n",
      "Requirement already satisfied: rdkit-pypi in /home/jheepuser/.local/lib/python3.10/site-packages (from -r requirements.txt (line 2)) (2022.3.4)\n",
      "Requirement already satisfied: numpy in /home/jheepuser/.local/lib/python3.10/site-packages (from rdkit-pypi->-r requirements.txt (line 2)) (1.22.4)\n",
      "Requirement already satisfied: Pillow in /home/jheepuser/.local/lib/python3.10/site-packages (from rdkit-pypi->-r requirements.txt (line 2)) (9.2.0)\n"
     ]
    }
   ],
   "source": [
    "!pwd\n",
    "!pip install -U -r requirements.txt"
   ]
  },
  {
   "cell_type": "code",
   "execution_count": 2,
   "id": "38b43a4f-c848-449d-a006-8b2acbccbba4",
   "metadata": {},
   "outputs": [],
   "source": [
    "from dask.distributed import Client\n",
    "\n",
    "client = Client()"
   ]
  },
  {
   "cell_type": "code",
   "execution_count": 3,
   "id": "1ef15f00-f585-48c4-b3c6-204677680f36",
   "metadata": {},
   "outputs": [],
   "source": [
    "from pathlib import Path\n",
    "from main import download_qm9_data, make_dataset, data_root\n",
    "\n",
    "file_path: Path | str = data_root.joinpath(\"data\")\n",
    "manifest_file: str = \"manifest.csv\"\n",
    "if not file_path.exists():\n",
    "    make_dataset(file_path, manifest_file)\n",
    "manifest_path = file_path.joinpath(manifest_file)"
   ]
  },
  {
   "cell_type": "markdown",
   "id": "75adedf4-15c7-4347-9430-993a3ef003e6",
   "metadata": {},
   "source": [
    "## Pandas DataFrame"
   ]
  },
  {
   "cell_type": "code",
   "execution_count": 4,
   "id": "feee1f64-8123-4269-a25f-ff3302b725b8",
   "metadata": {},
   "outputs": [
    {
     "name": "stdout",
     "output_type": "stream",
     "text": [
      "elapsed time: 23.584 secs\n"
     ]
    },
    {
     "data": {
      "text/plain": [
       "0         [0, 0, 0, 0, 0, 0, 0, 0, 0, 0, 0, 0, 0, 0, 0, ...\n",
       "1         [0, 0, 0, 0, 0, 0, 0, 0, 0, 0, 0, 0, 0, 0, 0, ...\n",
       "2         [0, 0, 0, 0, 0, 0, 0, 0, 0, 0, 0, 0, 0, 0, 0, ...\n",
       "3         [0, 0, 0, 0, 0, 0, 0, 0, 0, 0, 0, 0, 0, 0, 0, ...\n",
       "4         [0, 0, 0, 0, 0, 0, 0, 0, 0, 0, 0, 0, 0, 0, 0, ...\n",
       "                                ...                        \n",
       "130181    [0, 0, 0, 0, 0, 0, 0, 0, 0, 0, 0, 0, 0, 0, 0, ...\n",
       "130182    [0, 0, 0, 0, 0, 0, 0, 0, 0, 0, 0, 0, 0, 0, 0, ...\n",
       "130183    [0, 0, 0, 0, 0, 0, 0, 0, 0, 0, 0, 0, 0, 0, 0, ...\n",
       "130184    [0, 0, 0, 0, 0, 0, 0, 0, 0, 0, 0, 0, 0, 0, 0, ...\n",
       "130185    [0, 0, 0, 0, 0, 0, 0, 0, 0, 0, 0, 0, 0, 0, 0, ...\n",
       "Name: smiles, Length: 130186, dtype: object"
      ]
     },
     "execution_count": 4,
     "metadata": {},
     "output_type": "execute_result"
    }
   ],
   "source": [
    "from timeit import default_timer as timer\n",
    "import pandas as pd\n",
    "from main import make_fingerprint_feature2\n",
    "\n",
    "df = pd.read_csv(manifest_path)\n",
    "    \n",
    "def pandas_worker(df):\n",
    "    results = df['smiles'].apply(make_fingerprint_feature2)\n",
    "    return results\n",
    "    \n",
    "t = timer()\n",
    "results = pandas_worker(df)\n",
    "et = timer() - t\n",
    "print(f\"elapsed time: {et:.3f} secs\")\n",
    "results"
   ]
  },
  {
   "cell_type": "markdown",
   "id": "0a36d419-37d2-424c-8a48-d8211b2ac4e4",
   "metadata": {},
   "source": [
    "## Dask DataFrame"
   ]
  },
  {
   "cell_type": "code",
   "execution_count": 5,
   "id": "0c0acf07-322c-4bb0-a812-48dd1b4510ec",
   "metadata": {},
   "outputs": [
    {
     "name": "stdout",
     "output_type": "stream",
     "text": [
      "elapsed time: 14.564 secs\n"
     ]
    },
    {
     "data": {
      "text/plain": [
       "0         [0, 0, 0, 0, 0, 0, 0, 0, 0, 0, 0, 0, 0, 0, 0, ...\n",
       "1         [0, 0, 0, 0, 0, 0, 0, 0, 0, 0, 0, 0, 0, 0, 0, ...\n",
       "2         [0, 0, 0, 0, 0, 0, 0, 0, 0, 0, 0, 0, 0, 0, 0, ...\n",
       "3         [0, 0, 0, 0, 0, 0, 0, 0, 0, 0, 0, 0, 0, 0, 0, ...\n",
       "4         [0, 0, 0, 0, 0, 0, 0, 0, 0, 0, 0, 0, 0, 0, 0, ...\n",
       "                                ...                        \n",
       "130181    [0, 0, 0, 0, 0, 0, 0, 0, 0, 0, 0, 0, 0, 0, 0, ...\n",
       "130182    [0, 0, 0, 0, 0, 0, 0, 0, 0, 0, 0, 0, 0, 0, 0, ...\n",
       "130183    [0, 0, 0, 0, 0, 0, 0, 0, 0, 0, 0, 0, 0, 0, 0, ...\n",
       "130184    [0, 0, 0, 0, 0, 0, 0, 0, 0, 0, 0, 0, 0, 0, 0, ...\n",
       "130185    [0, 0, 0, 0, 0, 0, 0, 0, 0, 0, 0, 0, 0, 0, 0, ...\n",
       "Name: smiles, Length: 130186, dtype: object"
      ]
     },
     "execution_count": 5,
     "metadata": {},
     "output_type": "execute_result"
    }
   ],
   "source": [
    "import dask.dataframe as dd\n",
    "\n",
    "ddf = dd.read_csv(manifest_path)\n",
    "ddf = ddf.repartition(npartitions=8)\n",
    "\n",
    "def dask_worker(ddf):\n",
    "    \n",
    "    def mff_wrapper(dfd):\n",
    "        df = dfd.compute()\n",
    "        return df['smiles'].apply(make_fingerprint_feature2)\n",
    "\n",
    "    futures = client.map(mff_wrapper, ddf.to_delayed())\n",
    "    results = pd.concat(client.gather(futures))\n",
    "    return results\n",
    "\n",
    "t = timer()\n",
    "results = dask_worker(ddf)\n",
    "et = timer() - t\n",
    "print(f\"elapsed time: {et:.3f} secs\")\n",
    "results"
   ]
  },
  {
   "cell_type": "markdown",
   "id": "03e32817-c4c7-45f0-8ad8-84c8f61aac5f",
   "metadata": {},
   "source": [
    "## Test dask in training"
   ]
  },
  {
   "cell_type": "code",
   "execution_count": 6,
   "id": "cf46c098-6551-41dc-bda6-db45c17a3d2c",
   "metadata": {},
   "outputs": [
    {
     "name": "stdout",
     "output_type": "stream",
     "text": [
      "618       [0, 0, 0, 0, 0, 0, 0, 0, 0, 0, 0, 0, 0, 0, 0, ...\n",
      "112850    [0, 0, 0, 0, 0, 0, 0, 0, 0, 0, 0, 0, 0, 0, 0, ...\n",
      "19915     [0, 0, 0, 0, 0, 0, 0, 0, 0, 0, 0, 0, 0, 0, 0, ...\n",
      "6799      [0, 0, 0, 0, 0, 0, 0, 0, 0, 0, 0, 0, 0, 0, 0, ...\n",
      "55436     [0, 0, 0, 0, 0, 0, 0, 0, 0, 0, 0, 0, 0, 0, 0, ...\n",
      "                                ...                        \n",
      "93137     [0, 0, 0, 0, 0, 0, 0, 0, 0, 0, 0, 0, 0, 0, 0, ...\n",
      "65197     [0, 0, 0, 0, 0, 0, 0, 0, 0, 0, 0, 0, 0, 0, 0, ...\n",
      "42415     [0, 0, 0, 0, 0, 0, 0, 0, 0, 0, 0, 0, 0, 0, 0, ...\n",
      "126807    [0, 0, 0, 0, 0, 0, 0, 0, 0, 0, 0, 0, 0, 0, 0, ...\n",
      "21548     [0, 0, 0, 0, 0, 0, 0, 0, 0, 0, 0, 0, 0, 0, 0, ...\n",
      "Name: smiles, Length: 117167, dtype: object\n",
      "618      -0.2455\n",
      "112850   -0.2518\n",
      "19915    -0.2857\n",
      "6799     -0.2509\n",
      "55436    -0.2494\n",
      "           ...  \n",
      "93137    -0.2451\n",
      "65197    -0.2382\n",
      "42415    -0.2767\n",
      "126807   -0.2236\n",
      "21548    -0.2276\n",
      "Name: homo, Length: 117167, dtype: float64\n",
      "dask.array<astype, shape=(117167, 4096), dtype=float64, chunksize=(1, 4096), chunktype=numpy.ndarray>\n",
      "dask.array<stack, shape=(117167,), dtype=float64, chunksize=(1,), chunktype=numpy.ndarray>\n"
     ]
    }
   ],
   "source": [
    "from dask_ml.model_selection import train_test_split\n",
    "import numpy as np\n",
    "import dask.array as da\n",
    "\n",
    "X = results\n",
    "y = ddf.homo.compute()\n",
    "X_train, X_test, y_train, y_test = train_test_split(X, y, test_size=0.1)\n",
    "print(X_train)\n",
    "print(y_train)\n",
    "\n",
    "X_train = da.stack(X_train).astype(float)\n",
    "y_train = da.stack(y_train)\n",
    "print(X_train)\n",
    "print(y_train)"
   ]
  },
  {
   "cell_type": "code",
   "execution_count": null,
   "id": "fa997628-b382-4d32-9abb-24125dd0aebe",
   "metadata": {},
   "outputs": [
    {
     "name": "stdout",
     "output_type": "stream",
     "text": [
      "Fitting 3 folds for each of 5 candidates, totalling 15 fits\n",
      "[CV 1/3; 4/5] START C=0.01, gamma=1e-05, tol=0.001..............................\n",
      "[CV 1/3; 2/5] START C=100000.0, gamma=0.1, tol=0.001............................\n",
      "[CV 1/3; 5/5] START C=0.1, gamma=0.01, tol=0.1..................................\n",
      "[CV 1/3; 3/5] START C=100.0, gamma=1.0, tol=0.1.................................\n",
      "[CV 1/3; 1/5] START C=1.0, gamma=100000000.0, tol=0.1...........................\n"
     ]
    }
   ],
   "source": [
    "import joblib\n",
    "from sklearn.model_selection import RandomizedSearchCV\n",
    "from sklearn.svm import SVR\n",
    "\n",
    "\n",
    "param_space = {\n",
    "    'C': np.logspace(-6, 6, 13),\n",
    "    'gamma': np.logspace(-8, 8, 17),\n",
    "    'tol': np.logspace(-4, -1, 4),\n",
    "}\n",
    "\n",
    "model = SVR(kernel='rbf')\n",
    "search = RandomizedSearchCV(model, param_space, cv=3, n_iter=5, verbose=10)\n",
    "\n",
    "with joblib.parallel_backend('dask'):\n",
    "    search.fit(X_train, y_train)"
   ]
  },
  {
   "cell_type": "code",
   "execution_count": null,
   "id": "0c72dc9b-4eda-40f2-87bf-c75c83032592",
   "metadata": {},
   "outputs": [],
   "source": []
  }
 ],
 "metadata": {
  "kernelspec": {
   "display_name": "Python 3 (ipykernel)",
   "language": "python",
   "name": "python3"
  },
  "language_info": {
   "codemirror_mode": {
    "name": "ipython",
    "version": 3
   },
   "file_extension": ".py",
   "mimetype": "text/x-python",
   "name": "python",
   "nbconvert_exporter": "python",
   "pygments_lexer": "ipython3",
   "version": "3.10.5"
  }
 },
 "nbformat": 4,
 "nbformat_minor": 5
}
