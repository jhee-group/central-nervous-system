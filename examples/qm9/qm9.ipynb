{
 "cells": [
  {
   "cell_type": "code",
   "execution_count": null,
   "id": "61a0ebba-404f-429e-bd4a-16b37ed83b83",
   "metadata": {},
   "outputs": [],
   "source": [
    "!pwd\n",
    "!pip install -U -r requirements.txt"
   ]
  },
  {
   "cell_type": "code",
   "execution_count": null,
   "id": "1ef15f00-f585-48c4-b3c6-204677680f36",
   "metadata": {},
   "outputs": [],
   "source": [
    "from pathlib import Path\n",
    "from main import download_qm9_data, make_dataset, data_root\n",
    "\n",
    "file_path: Path | str = data_root.joinpath(\"data\")\n",
    "manifest_file: str = \"manifest.csv\"\n",
    "if not file_path.exists():\n",
    "    make_dataset(file_path, manifest_file)\n",
    "manifest_path = file_path.joinpath(manifest_file)"
   ]
  },
  {
   "cell_type": "markdown",
   "id": "75adedf4-15c7-4347-9430-993a3ef003e6",
   "metadata": {
    "jupyter": {
     "source_hidden": true
    },
    "tags": []
   },
   "source": [
    "## Pandas in training"
   ]
  },
  {
   "cell_type": "code",
   "execution_count": null,
   "id": "feee1f64-8123-4269-a25f-ff3302b725b8",
   "metadata": {
    "jupyter": {
     "source_hidden": true
    },
    "tags": []
   },
   "outputs": [],
   "source": [
    "from timeit import default_timer as timer\n",
    "import pandas as pd\n",
    "from main import make_fingerprint_feature2\n",
    "\n",
    "df = pd.read_csv(manifest_path)\n",
    "    \n",
    "def pandas_worker(df):\n",
    "    results = df['smiles'].apply(make_fingerprint_feature2)\n",
    "    return results\n",
    "    \n",
    "t = timer()\n",
    "results = pandas_worker(df)\n",
    "et = timer() - t\n",
    "print(f\"elapsed time: {et:.3f} secs\")\n",
    "results"
   ]
  },
  {
   "cell_type": "code",
   "execution_count": null,
   "id": "d89ad1a5-b100-457f-88a0-d0f13435a9b3",
   "metadata": {
    "jupyter": {
     "source_hidden": true
    },
    "tags": []
   },
   "outputs": [],
   "source": [
    "from sklearn.model_selection import train_test_split\n",
    "import numpy as np\n",
    "\n",
    "X = results\n",
    "y = df.homo\n",
    "X_train, X_test, y_train, y_test = train_test_split(X, y, test_size=0.1)\n",
    "print(X_train)\n",
    "print(y_train)\n",
    "\n",
    "X_train = np.stack(X_train).astype(float)\n",
    "y_train = np.stack(y_train)\n",
    "print(X_train)\n",
    "print(y_train)"
   ]
  },
  {
   "cell_type": "code",
   "execution_count": null,
   "id": "63ec151e-6b70-448e-8516-4ad2ad128edb",
   "metadata": {
    "jp-MarkdownHeadingCollapsed": true,
    "jupyter": {
     "source_hidden": true
    },
    "tags": []
   },
   "outputs": [],
   "source": [
    "from sklearn.model_selection import RandomizedSearchCV\n",
    "from sklearn.svm import SVR\n",
    "\n",
    "param_space = {\n",
    "    'C': np.logspace(-6, 6, 13),\n",
    "    'gamma': np.logspace(-8, 8, 17),\n",
    "    'tol': np.logspace(-4, -1, 4),\n",
    "}\n",
    "\n",
    "model = SVR(kernel='rbf')\n",
    "search = RandomizedSearchCV(model, param_space, cv=5, n_iter=10, verbose=10)\n",
    "search.fit(X_train, y_train)\n"
   ]
  },
  {
   "cell_type": "code",
   "execution_count": null,
   "id": "bb26847d-4c98-4f2d-b5f6-64ed9d7ed889",
   "metadata": {
    "jupyter": {
     "source_hidden": true
    },
    "tags": []
   },
   "outputs": [],
   "source": [
    "with pd.option_context('display.max_rows', None, 'display.max_columns', None)                                                                                                                                                                                                                               \n",
    "    pd.DataFrame(search.cv_results_)"
   ]
  },
  {
   "cell_type": "markdown",
   "id": "03e32817-c4c7-45f0-8ad8-84c8f61aac5f",
   "metadata": {},
   "source": [
    "## dask in training"
   ]
  },
  {
   "cell_type": "code",
   "execution_count": null,
   "id": "4a5a8c8b-a059-4adb-b288-b4f1c4f7b9d3",
   "metadata": {},
   "outputs": [],
   "source": [
    "from dask.distributed import Client\n",
    "\n",
    "client = Client()"
   ]
  },
  {
   "cell_type": "code",
   "execution_count": null,
   "id": "0c0acf07-322c-4bb0-a812-48dd1b4510ec",
   "metadata": {},
   "outputs": [],
   "source": [
    "from timeit import default_timer as timer\n",
    "import pandas as pd\n",
    "import dask.dataframe as dd\n",
    "from main import make_fingerprint_feature2\n",
    "\n",
    "ddf = dd.read_csv(manifest_path)\n",
    "ddf = ddf.repartition(npartitions=8)\n",
    "\n",
    "def dask_worker(ddf):\n",
    "    \n",
    "    def mff_wrapper(dfd):\n",
    "        df = dfd.compute()\n",
    "        return df['smiles'].apply(make_fingerprint_feature2)\n",
    "\n",
    "    futures = client.map(mff_wrapper, ddf.to_delayed())\n",
    "    results = pd.concat(client.gather(futures))\n",
    "    return results\n",
    "\n",
    "t = timer()\n",
    "results = dask_worker(ddf)\n",
    "et = timer() - t\n",
    "print(f\"elapsed time: {et:.3f} secs\")\n",
    "results"
   ]
  },
  {
   "cell_type": "code",
   "execution_count": null,
   "id": "cf46c098-6551-41dc-bda6-db45c17a3d2c",
   "metadata": {},
   "outputs": [],
   "source": [
    "from dask_ml.model_selection import train_test_split\n",
    "import dask.array as da\n",
    "\n",
    "X = results\n",
    "y = ddf.homo.compute()\n",
    "X_train, X_test, y_train, y_test = train_test_split(X, y, test_size=0.1)\n",
    "print(X_train)\n",
    "print(y_train)\n",
    "\n",
    "X_train = da.stack(X_train)\n",
    "y_train = da.stack(y_train)\n",
    "print(X_train)\n",
    "print(y_train)"
   ]
  },
  {
   "cell_type": "code",
   "execution_count": null,
   "id": "fa997628-b382-4d32-9abb-24125dd0aebe",
   "metadata": {},
   "outputs": [],
   "source": [
    "import joblib\n",
    "from sklearn.model_selection import RandomizedSearchCV\n",
    "from sklearn.svm import SVR\n",
    "import numpy as np\n",
    "\n",
    "param_space = {\n",
    "    'C': np.logspace(-6, 6, 13),\n",
    "    'gamma': np.logspace(-8, 8, 17),\n",
    "    'tol': np.logspace(-4, -1, 4),\n",
    "}\n",
    "\n",
    "model = SVR(kernel='rbf')\n",
    "search = RandomizedSearchCV(model, param_space, cv=5, n_iter=10, verbose=10)\n",
    "\n",
    "with joblib.parallel_backend('dask'):\n",
    "    search.fit(X_train, y_train)"
   ]
  },
  {
   "cell_type": "code",
   "execution_count": null,
   "id": "195489b4-df9b-4f91-ba4c-ce5051a90eeb",
   "metadata": {},
   "outputs": [],
   "source": [
    "with pd.option_context('display.max_rows', None, 'display.max_columns', None)                                                                                                                                                                                                                               \n",
    "    pd.DataFrame(search.cv_results_)"
   ]
  }
 ],
 "metadata": {
  "kernelspec": {
   "display_name": "Python 3 (ipykernel)",
   "language": "python",
   "name": "python3"
  },
  "language_info": {
   "codemirror_mode": {
    "name": "ipython",
    "version": 3
   },
   "file_extension": ".py",
   "mimetype": "text/x-python",
   "name": "python",
   "nbconvert_exporter": "python",
   "pygments_lexer": "ipython3",
   "version": "3.10.5"
  }
 },
 "nbformat": 4,
 "nbformat_minor": 5
}
