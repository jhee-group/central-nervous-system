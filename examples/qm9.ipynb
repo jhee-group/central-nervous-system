{
 "cells": [
  {
   "cell_type": "code",
   "execution_count": 1,
   "id": "61a0ebba-404f-429e-bd4a-16b37ed83b83",
   "metadata": {},
   "outputs": [],
   "source": [
    "from dask.distributed import Client, LocalCluster\n",
    "import dask.dataframe as dd\n",
    "\n",
    "cluster = LocalCluster()\n",
    "cluster.adapt(minimum=1, maximum=8)\n",
    "client = Client(cluster)"
   ]
  },
  {
   "cell_type": "code",
   "execution_count": 3,
   "id": "1ef15f00-f585-48c4-b3c6-204677680f36",
   "metadata": {},
   "outputs": [],
   "source": [
    "from pathlib import Path\n",
    "from qm9.main import download_qm9_data, make_dataset, data_root\n",
    "\n",
    "file_path: Path | str = data_root.joinpath(\"data\")\n",
    "manifest_file: str = \"manifest.csv\"\n",
    "if not file_path.exists():\n",
    "    make_dataset(file_path, manifest_file)\n",
    "manifest_path = file_path.joinpath(manifest_file)"
   ]
  },
  {
   "cell_type": "markdown",
   "id": "75adedf4-15c7-4347-9430-993a3ef003e6",
   "metadata": {},
   "source": [
    "## Pandas DataFrame"
   ]
  },
  {
   "cell_type": "code",
   "execution_count": 4,
   "id": "feee1f64-8123-4269-a25f-ff3302b725b8",
   "metadata": {},
   "outputs": [
    {
     "name": "stdout",
     "output_type": "stream",
     "text": [
      "0                                  4P///wAQAAABAAAAwTE9Cg==\n",
      "1                                  4P///wAQAAABAAAAiQx1Lw==\n",
      "2                                  4P///wAQAAABAAAAWQqlMQ==\n",
      "3                                  4P///wAQAAACAAAAfQ/NGrEP\n",
      "4                              4P///wAQAAADAAAApSWlBFEFXQg=\n",
      "                                ...                        \n",
      "130181    4P///wAQAAAVAAAA1QGBAVoRAtUCkQFCUQA0tA55A60HCQ...\n",
      "130182    4P///wAQAAAWAAAALikG2uoEkQLYqQAAxQddAt0BSNaY2Q...\n",
      "130183    4P///wAQAAATAAAAuQElAXUABAEEMQDBAwSxCAUJjBi4UK...\n",
      "130184    4P///wAQAAAWAAAAXQY0RgSurQKhAwDFBzkBMQAhAj7Q2Q...\n",
      "130185    4P///wAQAAAXAAAAWQcEbECtAqBdAX4AEQnZBApIvQSKEh...\n",
      "Name: smiles, Length: 130186, dtype: object\n",
      "elapsed time: 10.805 secs\n"
     ]
    }
   ],
   "source": [
    "from timeit import default_timer as timer\n",
    "import pandas as pd\n",
    "from qm9.main import make_fingerprint_feature\n",
    "\n",
    "def pandas_worker():\n",
    "    df = pd.read_csv(manifest_path)\n",
    "    results = df['smiles'].apply(make_fingerprint_feature)\n",
    "    print(results)\n",
    "    \n",
    "t = timer()\n",
    "results = pandas_worker()\n",
    "et = timer() - t\n",
    "print(f\"elapsed time: {et:.3f} secs\")\n"
   ]
  },
  {
   "cell_type": "code",
   "execution_count": 12,
   "id": "bd01603f-8179-4bb3-bec2-62e55529ec08",
   "metadata": {},
   "outputs": [
    {
     "name": "stdout",
     "output_type": "stream",
     "text": [
      "elapsed time: 5.517 secs\n"
     ]
    },
    {
     "data": {
      "text/plain": [
       "0                                  4P///wAQAAABAAAAwTE9Cg==\n",
       "1                                  4P///wAQAAABAAAAiQx1Lw==\n",
       "2                                  4P///wAQAAABAAAAWQqlMQ==\n",
       "3                                  4P///wAQAAACAAAAfQ/NGrEP\n",
       "4                              4P///wAQAAADAAAApSWlBFEFXQg=\n",
       "                                ...                        \n",
       "130181    4P///wAQAAAVAAAA1QGBAVoRAtUCkQFCUQA0tA55A60HCQ...\n",
       "130182    4P///wAQAAAWAAAALikG2uoEkQLYqQAAxQddAt0BSNaY2Q...\n",
       "130183    4P///wAQAAATAAAAuQElAXUABAEEMQDBAwSxCAUJjBi4UK...\n",
       "130184    4P///wAQAAAWAAAAXQY0RgSurQKhAwDFBzkBMQAhAj7Q2Q...\n",
       "130185    4P///wAQAAAXAAAAWQcEbECtAqBdAX4AEQnZBApIvQSKEh...\n",
       "Length: 130186, dtype: object"
      ]
     },
     "execution_count": 12,
     "metadata": {},
     "output_type": "execute_result"
    },
    {
     "name": "stderr",
     "output_type": "stream",
     "text": [
      "2022-07-16 02:06:25,642 [776] ERROR Timed out during handshake while connecting to tcp://127.0.0.1:46037 after 30 s\n",
      "Traceback (most recent call last):\n",
      "  File \"/usr/local/lib/python3.10/site-packages/tornado/iostream.py\", line 867, in _read_to_buffer\n",
      "    bytes_read = self.read_from_fd(buf)\n",
      "  File \"/usr/local/lib/python3.10/site-packages/tornado/iostream.py\", line 1140, in read_from_fd\n",
      "    return self.socket.recv_into(buf, len(buf))\n",
      "ConnectionResetError: [Errno 104] Connection reset by peer\n",
      "\n",
      "The above exception was the direct cause of the following exception:\n",
      "\n",
      "Traceback (most recent call last):\n",
      "  File \"/usr/local/lib/python3.10/site-packages/distributed/comm/core.py\", line 328, in connect\n",
      "    handshake = await asyncio.wait_for(comm.read(), time_left())\n",
      "  File \"/usr/local/lib/python3.10/asyncio/tasks.py\", line 445, in wait_for\n",
      "    return fut.result()\n",
      "  File \"/usr/local/lib/python3.10/site-packages/distributed/comm/tcp.py\", line 239, in read\n",
      "    convert_stream_closed_error(self, e)\n",
      "  File \"/usr/local/lib/python3.10/site-packages/distributed/comm/tcp.py\", line 142, in convert_stream_closed_error\n",
      "    raise CommClosedError(f\"in {obj}: {exc.__class__.__name__}: {exc}\") from exc\n",
      "distributed.comm.core.CommClosedError: in <TCP (closed)  local=tcp://127.0.0.1:52886 remote=tcp://127.0.0.1:46037>: ConnectionResetError: [Errno 104] Connection reset by peer\n",
      "\n",
      "The above exception was the direct cause of the following exception:\n",
      "\n",
      "Traceback (most recent call last):\n",
      "  File \"/usr/local/lib/python3.10/site-packages/distributed/utils.py\", line 778, in wrapper\n",
      "    return await func(*args, **kwargs)\n",
      "  File \"/usr/local/lib/python3.10/site-packages/distributed/worker.py\", line 1491, in close\n",
      "    await r.close_gracefully()\n",
      "  File \"/usr/local/lib/python3.10/site-packages/distributed/core.py\", line 1150, in send_recv_from_rpc\n",
      "    comm = await self.pool.connect(self.addr)\n",
      "  File \"/usr/local/lib/python3.10/site-packages/distributed/core.py\", line 1371, in connect\n",
      "    return await connect_attempt\n",
      "  File \"/usr/local/lib/python3.10/site-packages/distributed/core.py\", line 1307, in _connect\n",
      "    comm = await connect(\n",
      "  File \"/usr/local/lib/python3.10/site-packages/distributed/comm/core.py\", line 333, in connect\n",
      "    raise OSError(\n",
      "OSError: Timed out during handshake while connecting to tcp://127.0.0.1:46037 after 30 s\n",
      "2022-07-16 02:06:25,642 [776] ERROR Task exception was never retrieved\n",
      "future: <Task finished name='Task-82' coro=<Worker.close() done, defined at /usr/local/lib/python3.10/site-packages/distributed/utils.py:776> exception=OSError('Timed out during handshake while connecting to tcp://127.0.0.1:46037 after 30 s')>\n",
      "Traceback (most recent call last):\n",
      "  File \"/usr/local/lib/python3.10/site-packages/tornado/iostream.py\", line 867, in _read_to_buffer\n",
      "    bytes_read = self.read_from_fd(buf)\n",
      "  File \"/usr/local/lib/python3.10/site-packages/tornado/iostream.py\", line 1140, in read_from_fd\n",
      "    return self.socket.recv_into(buf, len(buf))\n",
      "ConnectionResetError: [Errno 104] Connection reset by peer\n",
      "\n",
      "The above exception was the direct cause of the following exception:\n",
      "\n",
      "Traceback (most recent call last):\n",
      "  File \"/usr/local/lib/python3.10/site-packages/distributed/comm/core.py\", line 328, in connect\n",
      "    handshake = await asyncio.wait_for(comm.read(), time_left())\n",
      "  File \"/usr/local/lib/python3.10/asyncio/tasks.py\", line 445, in wait_for\n",
      "    return fut.result()\n",
      "  File \"/usr/local/lib/python3.10/site-packages/distributed/comm/tcp.py\", line 239, in read\n",
      "    convert_stream_closed_error(self, e)\n",
      "  File \"/usr/local/lib/python3.10/site-packages/distributed/comm/tcp.py\", line 142, in convert_stream_closed_error\n",
      "    raise CommClosedError(f\"in {obj}: {exc.__class__.__name__}: {exc}\") from exc\n",
      "distributed.comm.core.CommClosedError: in <TCP (closed)  local=tcp://127.0.0.1:52886 remote=tcp://127.0.0.1:46037>: ConnectionResetError: [Errno 104] Connection reset by peer\n",
      "\n",
      "The above exception was the direct cause of the following exception:\n",
      "\n",
      "Traceback (most recent call last):\n",
      "  File \"/usr/local/lib/python3.10/site-packages/distributed/utils.py\", line 778, in wrapper\n",
      "    return await func(*args, **kwargs)\n",
      "  File \"/usr/local/lib/python3.10/site-packages/distributed/worker.py\", line 1491, in close\n",
      "    await r.close_gracefully()\n",
      "  File \"/usr/local/lib/python3.10/site-packages/distributed/core.py\", line 1150, in send_recv_from_rpc\n",
      "    comm = await self.pool.connect(self.addr)\n",
      "  File \"/usr/local/lib/python3.10/site-packages/distributed/core.py\", line 1371, in connect\n",
      "    return await connect_attempt\n",
      "  File \"/usr/local/lib/python3.10/site-packages/distributed/core.py\", line 1307, in _connect\n",
      "    comm = await connect(\n",
      "  File \"/usr/local/lib/python3.10/site-packages/distributed/comm/core.py\", line 333, in connect\n",
      "    raise OSError(\n",
      "OSError: Timed out during handshake while connecting to tcp://127.0.0.1:46037 after 30 s\n",
      "2022-07-16 02:06:29,571 - distributed.nanny - WARNING - Worker process still alive after 3.9999977111816407 seconds, killing\n",
      "2022-07-16 02:06:29,572 - distributed.nanny - WARNING - Worker process still alive after 3.9999988555908206 seconds, killing\n",
      "2022-07-16 02:06:29,573 - distributed.nanny - WARNING - Worker process still alive after 3.999999237060547 seconds, killing\n"
     ]
    }
   ],
   "source": [
    "def dask_worker():\n",
    "    ddf = dd.read_csv(manifest_path)\n",
    "    ddf = ddf.repartition(npartitions=8)\n",
    "    futures = ddf.smiles.apply(make_fingerprint_feature, meta=pd.Series(dtype=str))\n",
    "    results = futures.compute()\n",
    "    return results\n",
    "\n",
    "t = timer()\n",
    "results = dask_worker()\n",
    "et = timer() - t\n",
    "print(f\"elapsed time: {et:.3f} secs\")\n",
    "results"
   ]
  },
  {
   "cell_type": "code",
   "execution_count": null,
   "id": "c684c19e-8843-4fbe-bcaf-05c9ceca2ee5",
   "metadata": {},
   "outputs": [],
   "source": []
  }
 ],
 "metadata": {
  "kernelspec": {
   "display_name": "Python 3 (ipykernel)",
   "language": "python",
   "name": "python3"
  },
  "language_info": {
   "codemirror_mode": {
    "name": "ipython",
    "version": 3
   },
   "file_extension": ".py",
   "mimetype": "text/x-python",
   "name": "python",
   "nbconvert_exporter": "python",
   "pygments_lexer": "ipython3",
   "version": "3.10.5"
  }
 },
 "nbformat": 4,
 "nbformat_minor": 5
}
